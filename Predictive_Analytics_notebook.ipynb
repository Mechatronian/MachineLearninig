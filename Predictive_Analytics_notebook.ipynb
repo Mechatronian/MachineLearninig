{
  "nbformat": 4,
  "nbformat_minor": 0,
  "metadata": {
    "kernelspec": {
      "display_name": "Python 3",
      "language": "python",
      "name": "python3"
    },
    "language_info": {
      "codemirror_mode": {
        "name": "ipython",
        "version": 3
      },
      "file_extension": ".py",
      "mimetype": "text/x-python",
      "name": "python",
      "nbconvert_exporter": "python",
      "pygments_lexer": "ipython3",
      "version": "3.7.1"
    },
    "colab": {
      "name": "Predictive_Analytics_notebook.ipynb",
      "provenance": [],
      "collapsed_sections": [],
      "toc_visible": true,
      "include_colab_link": true
    }
  },
  "cells": [
    {
      "cell_type": "markdown",
      "metadata": {
        "id": "view-in-github",
        "colab_type": "text"
      },
      "source": [
        "<a href=\"https://colab.research.google.com/github/Mechatronian/MachineLearninig/blob/master/Predictive_Analytics_notebook.ipynb\" target=\"_parent\"><img src=\"https://colab.research.google.com/assets/colab-badge.svg\" alt=\"Open In Colab\"/></a>"
      ]
    },
    {
      "cell_type": "markdown",
      "metadata": {
        "id": "0XPPwsb_36BR",
        "colab_type": "text"
      },
      "source": [
        "<p align=\"center\">\n",
        "<img src=\"https://github.com/Darek-github/CoE-Academy-Data-preparation/blob/master/logo_DP.png?raw=True\" alt = \"DataProc icon\" width=\"50%\">\n",
        "</p>\n",
        "<br><br>\n",
        "\n",
        "## **Predictive Analytics**\n",
        "\n",
        "Welcome to this hands-on training for aspiring machine learning practitioners. Using Python with `pandas` and `scikit learn`, we'll learn how to process data for machine learning and create predictions on a telcom case study. In this session you will learn:\n",
        "- How to apply data preprocessing for machine learning including feature engineering.\n",
        "- The different types of machine learning and when to use them.\n",
        "- How to apply supervised machine learning models to generate predictions.\n",
        "\n",
        "## **The Dataset**\n",
        "\n",
        "The dataset to be used in this webinar is a CSV file named `telco.csv`, which contains data on telecom customers churning and some of their key behaviors. It contains the following columns:\n",
        "\n",
        "**Features**:\n",
        "\n",
        "- `customerID`: Unique identifier of a customer.\n",
        "- `gender`: Gender of customer.\n",
        "- `SeniorCitizen`: Binary variable indicating if customer is senior citizen.\n",
        "- `Partner`: Binary variable if customer has a partner.\n",
        "- `Dependents`: Binary variable if customer has dependent.\n",
        "- `tenure`: Number of weeks as a customer.\n",
        "- `PhoneService`: Whether customer has phone service.\n",
        "- `MultipleLines`: Whether customer has multiple lines.\n",
        "- `InternetService`: What type of internet service customer has (`\"DSL\"`, `\"Fiber optic\"`, `\"No\"`).\n",
        "- `OnlineSecurity`: Whether customer has online security service.\n",
        "- `OnlineBackup`: Whether customer has online backup service.\n",
        "- `DeviceProtection`: Whether customer has device protection service.\n",
        "- `TechSupport`: Whether customer has tech support service.\n",
        "- `StreamingTV`: Whether customer has TV streaming service.\n",
        "- `StreamingMovies`: Whether customer has movies streaming service.\n",
        "- `Contract`: Customer Contract Type (`'Month-to-month'`, `'One year'`, `'Two year'`).\n",
        "- `PaperlessBilling`: Whether paperless billing is enabled.\n",
        "- `PaymentMethod`: Payment method.\n",
        "- `MonthlyCharges`: Amount of monthly charges in $.\n",
        "- `TotalCharges`: Amount of total charges so far.\n",
        "\n",
        "**Target Variable**:\n",
        "\n",
        "- `Churn`: Whether customer `'Stayed'` or `'Churned'`.\n"
      ]
    },
    {
      "cell_type": "code",
      "metadata": {
        "id": "SUZGmwco35DZ",
        "colab_type": "code",
        "colab": {}
      },
      "source": [
        "# Import libraries\n",
        "import pandas as pd             #data handling, manipulation, and analysis\n",
        "import matplotlib.pyplot as plt #data visualisation\n",
        "import seaborn as sns           #data visualisation\n",
        "import numpy as np              #for any work with matrices, especially math operations\n",
        "import sklearn                  #machine learning"
      ],
      "execution_count": null,
      "outputs": []
    },
    {
      "cell_type": "markdown",
      "metadata": {
        "id": "yZ8-cLN_LpqM",
        "colab_type": "text"
      },
      "source": [
        "*Tip - To run block of code use mouse or CTRL+Enter*"
      ]
    },
    {
      "cell_type": "markdown",
      "metadata": {
        "id": "T9QtPmGc0ivB",
        "colab_type": "text"
      },
      "source": [
        "# **Data Exploration**"
      ]
    },
    {
      "cell_type": "markdown",
      "metadata": {
        "id": "FLlBsdmrvZYi",
        "colab_type": "text"
      },
      "source": [
        "Sample of source csv data file\n",
        "```\n",
        ",customerID,gender,SeniorCitizen,Partner ...\n",
        "0,7590-VHVEG,Female,No,Yes ...\n",
        "1,5575-GNVDE,Male,No,No ...\n",
        "2,3668-QPYBK,Male,No ...\n",
        "3,7795-CFOCW,Male,No,No ...\n",
        "...\n",
        "```"
      ]
    },
    {
      "cell_type": "code",
      "metadata": {
        "id": "NB84Bnxj0ivD",
        "colab_type": "code",
        "colab": {}
      },
      "source": [
        "# Read in dataset\n",
        "url = 'https://raw.githubusercontent.com/Darek-github/CoE-Academy-Data-preparation/master/telcom.csv'\n",
        "telco = pd.read_csv(url, index_col = \"Unnamed: 0\")\n",
        "pd.set_option('display.max_columns', None) # Display all columns"
      ],
      "execution_count": null,
      "outputs": []
    },
    {
      "cell_type": "code",
      "metadata": {
        "id": "VrIM7ipnw4-y",
        "colab_type": "code",
        "colab": {}
      },
      "source": [
        "# Check type of object telco\n"
      ],
      "execution_count": null,
      "outputs": []
    },
    {
      "cell_type": "code",
      "metadata": {
        "id": "GDNDM4O-PH85",
        "colab_type": "code",
        "colab": {}
      },
      "source": [
        "# Print shape of dataset\n"
      ],
      "execution_count": null,
      "outputs": []
    },
    {
      "cell_type": "markdown",
      "metadata": {
        "id": "1ndQ06IYjk3v",
        "colab_type": "text"
      },
      "source": [
        "**Observations:**\n"
      ]
    },
    {
      "cell_type": "code",
      "metadata": {
        "id": "t1xRb-Ar0ivJ",
        "colab_type": "code",
        "colab": {}
      },
      "source": [
        "# Print header\n"
      ],
      "execution_count": null,
      "outputs": []
    },
    {
      "cell_type": "markdown",
      "metadata": {
        "id": "_t06h7pYfcyL",
        "colab_type": "text"
      },
      "source": [
        "**In general there are broadly 3 types of data:**\n",
        "- Continous _(e.g. age)_ data. \n",
        "- Categorical data _(e.g. marriage status)_. \n",
        "- Other *(e.g. image, tweets, etc...)*"
      ]
    },
    {
      "cell_type": "code",
      "metadata": {
        "id": "KkjQYHeBZATK",
        "colab_type": "code",
        "colab": {}
      },
      "source": [
        ""
      ],
      "execution_count": null,
      "outputs": []
    },
    {
      "cell_type": "markdown",
      "metadata": {
        "id": "8y3opLnUNn9I",
        "colab_type": "text"
      },
      "source": [
        "**Terminology:**\n",
        "- **Column:** Variable = Feature -> Dimension -> Customer features\n",
        "- **Row:** Case = Point -> Customer record\n",
        "\n",
        "\n",
        "\n"
      ]
    },
    {
      "cell_type": "markdown",
      "metadata": {
        "id": "j7MqIuT48Uie",
        "colab_type": "text"
      },
      "source": [
        "**Observations:**\n"
      ]
    },
    {
      "cell_type": "code",
      "metadata": {
        "id": "aVxdMm2ePlG5",
        "colab_type": "code",
        "colab": {}
      },
      "source": [
        "# Print names of variables\n"
      ],
      "execution_count": null,
      "outputs": []
    },
    {
      "cell_type": "code",
      "metadata": {
        "id": "_ZwgYwzTRnFY",
        "colab_type": "code",
        "colab": {}
      },
      "source": [
        "# Show statistics of numeric variables\n"
      ],
      "execution_count": null,
      "outputs": []
    },
    {
      "cell_type": "code",
      "metadata": {
        "id": "26qDUt_AR59-",
        "colab_type": "code",
        "colab": {}
      },
      "source": [
        "# Show statistics of categoric variables\n"
      ],
      "execution_count": null,
      "outputs": []
    },
    {
      "cell_type": "markdown",
      "metadata": {
        "id": "0Dxgkk9Qni1U",
        "colab_type": "text"
      },
      "source": [
        "**Observations:**\n"
      ]
    },
    {
      "cell_type": "code",
      "metadata": {
        "id": "slwaB4WyScSr",
        "colab_type": "code",
        "colab": {}
      },
      "source": [
        "# Select 1 variable (serie) - method 1\n"
      ],
      "execution_count": null,
      "outputs": []
    },
    {
      "cell_type": "code",
      "metadata": {
        "id": "Qp3XhkqaScIU",
        "colab_type": "code",
        "colab": {}
      },
      "source": [
        "# Select 1 variable (serie) - method 2\n"
      ],
      "execution_count": null,
      "outputs": []
    },
    {
      "cell_type": "code",
      "metadata": {
        "id": "TTgAx9kjS5Zu",
        "colab_type": "code",
        "colab": {}
      },
      "source": [
        "# Select multiple variables\n"
      ],
      "execution_count": null,
      "outputs": []
    },
    {
      "cell_type": "code",
      "metadata": {
        "id": "OECic5umTUXz",
        "colab_type": "code",
        "colab": {}
      },
      "source": [
        "# Show statistics of numerical variable -> Min, max, mean, median, std, ...\n"
      ],
      "execution_count": null,
      "outputs": []
    },
    {
      "cell_type": "code",
      "metadata": {
        "id": "Jq2Y3PRvanSg",
        "colab_type": "code",
        "colab": {}
      },
      "source": [
        "# Categorical variable -> Count unique values\n"
      ],
      "execution_count": null,
      "outputs": []
    },
    {
      "cell_type": "code",
      "metadata": {
        "id": "bG_NGcRabnpv",
        "colab_type": "code",
        "colab": {}
      },
      "source": [
        "# Categorical variable -> Cross-tabulation (or \"crosstab\" for short)\n"
      ],
      "execution_count": null,
      "outputs": []
    },
    {
      "cell_type": "markdown",
      "metadata": {
        "id": "oif89nNdcz5a",
        "colab_type": "text"
      },
      "source": [
        "**Note**: Try parameters: `margins`=`True` and `normalize`=`True`"
      ]
    },
    {
      "cell_type": "markdown",
      "metadata": {
        "id": "ZAdnDUP7mO54",
        "colab_type": "text"
      },
      "source": [
        "## **Data Filtering**"
      ]
    },
    {
      "cell_type": "code",
      "metadata": {
        "id": "mnoEaP6ncyeP",
        "colab_type": "code",
        "colab": {}
      },
      "source": [
        "#Single filter (checking \"Zero\" values)\n"
      ],
      "execution_count": null,
      "outputs": []
    },
    {
      "cell_type": "markdown",
      "metadata": {
        "id": "UUg4yGCyb4Kg",
        "colab_type": "text"
      },
      "source": [
        "**Observations**:\n"
      ]
    },
    {
      "cell_type": "code",
      "metadata": {
        "id": "bc54-Tu9m_BK",
        "colab_type": "code",
        "colab": {}
      },
      "source": [
        "# Multiple filters\n"
      ],
      "execution_count": null,
      "outputs": []
    },
    {
      "cell_type": "code",
      "metadata": {
        "id": "JsmNCE8U0iva",
        "colab_type": "code",
        "colab": {}
      },
      "source": [
        "# Print variable types\n"
      ],
      "execution_count": null,
      "outputs": []
    },
    {
      "cell_type": "markdown",
      "metadata": {
        "id": "IreWm0di889y",
        "colab_type": "text"
      },
      "source": [
        "**Observations:**"
      ]
    },
    {
      "cell_type": "code",
      "metadata": {
        "id": "oK9GKWFq0ivo",
        "colab_type": "code",
        "colab": {}
      },
      "source": [
        "# Take a look at unique values in telco\n"
      ],
      "execution_count": null,
      "outputs": []
    },
    {
      "cell_type": "markdown",
      "metadata": {
        "id": "yy0mYfPf9Rcs",
        "colab_type": "text"
      },
      "source": [
        "**Observations:**"
      ]
    },
    {
      "cell_type": "code",
      "metadata": {
        "id": "wNQdigfw0ivz",
        "colab_type": "code",
        "colab": {}
      },
      "source": [
        "# Unique values of internet service\n"
      ],
      "execution_count": null,
      "outputs": []
    },
    {
      "cell_type": "markdown",
      "metadata": {
        "id": "f3gdBeLO9iCW",
        "colab_type": "text"
      },
      "source": [
        "**Observations:** "
      ]
    },
    {
      "cell_type": "markdown",
      "metadata": {
        "id": "SP-gt8tqoINV",
        "colab_type": "text"
      },
      "source": [
        "## <center> Summary\n",
        "- The data table is a Pandas **dataframe**\n",
        "- The data column is a Pandas **series**\n",
        "- We can obtain information of the **dataset**:\n",
        "  - 10 top rows: `df.head(10)`\n",
        "  - Number of rows & variables: `df.shape`\n",
        "  - Names of variables: `df.columns`\n",
        "  - Types of variables: `df.info()`\n",
        "  - Stats of numerical variables: `df.describe()`\n",
        "  - Stats of categorical variables: `df.describe(include=['object', 'bool'])`\n",
        "- Information of **numerical variables**:\n",
        "  - Minimum `df.num_var.min()`\n",
        "  - Maximun `df.num_var.max()`\n",
        "  - Mean `df.num_var.mean()`\n",
        "  - Median `df.num_var.median()`\n",
        "  - Std `df.variable.std()`\n",
        "- Information of **categorial variables**:\n",
        "  - Unique values (count): `df.cat_var.value_counts()`\n",
        "  - Unique values (percen): `df.cat_var.value_counts(normalize=True)`\n",
        "  - 2 categorial vars (count): `pd.crosstab(df.cat_var1, df.cat_var2, margins=True)`\n",
        "  - 2 categorial vars (percen): `pd.crosstab(df.cat_var1, df.cat_var2, margins=True, normalize=True)`\n",
        "- **Fitering rows**:\n",
        "  - One filter: `df[ condition ]`\n",
        "  - Multiple filters: `df[ (condition1) & (condition2) | (condition3)]`"
      ]
    },
    {
      "cell_type": "markdown",
      "metadata": {
        "id": "Ot-F9i0l6NLb",
        "colab_type": "text"
      },
      "source": [
        "---\n",
        "<center><h1> Q&A 1</h1> </center>\n",
        "\n",
        "---"
      ]
    },
    {
      "cell_type": "markdown",
      "metadata": {
        "id": "uJc5u_yP0iwI",
        "colab_type": "text"
      },
      "source": [
        "# **Data Cleaning**"
      ]
    },
    {
      "cell_type": "markdown",
      "metadata": {
        "id": "DzqvJShMA-TE",
        "colab_type": "text"
      },
      "source": [
        "### **Task 1: Dropping** `customerID` **column**\n"
      ]
    },
    {
      "cell_type": "code",
      "metadata": {
        "id": "GqLtk5Et0iwN",
        "colab_type": "code",
        "colab": {}
      },
      "source": [
        "# Drop customer ID column\n"
      ],
      "execution_count": null,
      "outputs": []
    },
    {
      "cell_type": "markdown",
      "metadata": {
        "id": "u8OX7u2eBHQ1",
        "colab_type": "text"
      },
      "source": [
        "### **Task 2: Converting** `TotalCharges` **column**\n"
      ]
    },
    {
      "cell_type": "code",
      "metadata": {
        "id": "utp87oQf0iwQ",
        "colab_type": "code",
        "colab": {}
      },
      "source": [
        "# Convert TotalCharges to numeric\n"
      ],
      "execution_count": null,
      "outputs": []
    },
    {
      "cell_type": "code",
      "metadata": {
        "id": "SginoXnb0iwT",
        "colab_type": "code",
        "colab": {}
      },
      "source": [
        "# Print info to confirm convertion\n"
      ],
      "execution_count": null,
      "outputs": []
    },
    {
      "cell_type": "markdown",
      "metadata": {
        "id": "Cc1n_By-6l1k",
        "colab_type": "text"
      },
      "source": [
        "### **Task 3: Handling Missing Data**\n"
      ]
    },
    {
      "cell_type": "code",
      "metadata": {
        "id": "xMPV4-d50iwW",
        "colab_type": "code",
        "colab": {}
      },
      "source": [
        "# Print number of missing values\n"
      ],
      "execution_count": null,
      "outputs": []
    },
    {
      "cell_type": "markdown",
      "metadata": {
        "id": "KQLjB9OfCtox",
        "colab_type": "text"
      },
      "source": [
        "**Observations:** "
      ]
    },
    {
      "cell_type": "code",
      "metadata": {
        "id": "91WycNU30iwf",
        "colab_type": "code",
        "colab": {}
      },
      "source": [
        "# Get distribution of TotalCharges\n"
      ],
      "execution_count": null,
      "outputs": []
    },
    {
      "cell_type": "code",
      "metadata": {
        "id": "xoNNRE7M0iwc",
        "colab_type": "code",
        "colab": {}
      },
      "source": [
        "# Visualize distribution of TotalCharges\n"
      ],
      "execution_count": null,
      "outputs": []
    },
    {
      "cell_type": "markdown",
      "metadata": {
        "id": "TK3bVIjfD_GP",
        "colab_type": "text"
      },
      "source": [
        "#### **Optional: Repleace missing values**<BR>\n",
        "```\n",
        "df.loc[row condition, column label]\n",
        "```\n",
        "\n",
        "See also [fillna()](https://pandas.pydata.org/pandas-docs/stable/reference/api/pandas.DataFrame.fillna.html#pandas.DataFrame.fillna)"
      ]
    },
    {
      "cell_type": "markdown",
      "metadata": {
        "id": "-x2Z354EP3DT",
        "colab_type": "text"
      },
      "source": [
        "#### **Drop rows with missing values**"
      ]
    },
    {
      "cell_type": "code",
      "metadata": {
        "id": "OykkW3l80iwj",
        "colab_type": "code",
        "colab": {}
      },
      "source": [
        "# Remove missing values\n",
        "\n",
        "# Reset index\n"
      ],
      "execution_count": null,
      "outputs": []
    },
    {
      "cell_type": "code",
      "metadata": {
        "id": "9UkD8u1N0iwm",
        "colab_type": "code",
        "colab": {}
      },
      "source": [
        "# Make sure no more NaN \n"
      ],
      "execution_count": null,
      "outputs": []
    },
    {
      "cell_type": "markdown",
      "metadata": {
        "id": "nNXC7kmfEap4",
        "colab_type": "text"
      },
      "source": [
        "### **Task 4: Collapse** values of `InternetService` **column**\n",
        "\n",
        "```\n",
        "df['col_A'] = df['col_A'].replace({old_value : new_value})\n",
        "```\n"
      ]
    },
    {
      "cell_type": "code",
      "metadata": {
        "id": "l7lMvuss0iwo",
        "colab_type": "code",
        "colab": {}
      },
      "source": [
        "# Collapse 'dsl' into 'DSL'\n",
        "\n",
        "# Confirm changes\n"
      ],
      "execution_count": null,
      "outputs": []
    },
    {
      "cell_type": "markdown",
      "metadata": {
        "id": "4Dp3t62t6klv",
        "colab_type": "text"
      },
      "source": [
        "---\n",
        "<center><h1> Q&A 2</h1> </center>\n",
        "\n",
        "---"
      ]
    },
    {
      "cell_type": "markdown",
      "metadata": {
        "id": "_0yg1rYr0iws",
        "colab_type": "text"
      },
      "source": [
        "# **Exploratory Data Analysis**"
      ]
    },
    {
      "cell_type": "markdown",
      "metadata": {
        "id": "gFCOeFKaFdb8",
        "colab_type": "text"
      },
      "source": [
        "Let's visualize how continous and categorical data in `telco` behave with `Churn`."
      ]
    },
    {
      "cell_type": "code",
      "metadata": {
        "id": "rmxBKliY0iw0",
        "colab_type": "code",
        "colab": {}
      },
      "source": [
        "# Grab a look at the header\n"
      ],
      "execution_count": null,
      "outputs": []
    },
    {
      "cell_type": "markdown",
      "metadata": {
        "id": "7uNWaUFiGsMP",
        "colab_type": "text"
      },
      "source": [
        "\n",
        "> ```\n",
        "> my_list = [i for i in range(0,10)]\n",
        ">\n",
        "> print(my_list)\n",
        ">\n",
        "> [0, 1, 2, 3, 4, 5, 6, 7, 8, 9]\n",
        "```\n",
        "\n",
        ">```\n",
        "># Create a list of the doubles of values from 0 to 9\n",
        ">my_list = [i for i in range(0,10) if i > 3]\n",
        ">\n",
        ">print(my_list)\n",
        ">\n",
        ">[4, 5, 6, 7, 8, 9]\n",
        "```"
      ]
    },
    {
      "cell_type": "code",
      "metadata": {
        "id": "7hWyT3ncpq55",
        "colab_type": "code",
        "colab": {}
      },
      "source": [
        "# Get dtypes of column\n"
      ],
      "execution_count": null,
      "outputs": []
    },
    {
      "cell_type": "code",
      "metadata": {
        "id": "3znf0qLD0iw2",
        "colab_type": "code",
        "colab": {}
      },
      "source": [
        "# Get all features\n",
        "\n",
        "\n",
        "# Get all categorical features\n",
        "\n",
        "\n",
        "# Get all numeric columns\n"
      ],
      "execution_count": null,
      "outputs": []
    },
    {
      "cell_type": "code",
      "metadata": {
        "id": "RKwQt-V10iw6",
        "colab_type": "code",
        "colab": {}
      },
      "source": [
        "# Print them out and make sure\n"
      ],
      "execution_count": null,
      "outputs": []
    },
    {
      "cell_type": "markdown",
      "metadata": {
        "id": "0iQQCwEDB--4",
        "colab_type": "text"
      },
      "source": [
        "### **Target variable**\n",
        "\n"
      ]
    },
    {
      "cell_type": "markdown",
      "metadata": {
        "id": "aioCIua1Vl4K",
        "colab_type": "text"
      },
      "source": [
        "To visualize the count of different categorical values by Churn, we can use the `sns.countplot(x, hue, data)` function which takes in:\n",
        "\n",
        "    x: The column name being counted.\n",
        "    hue: The column name used for grouping the data.\n",
        "    data: The DataFrame being visualized.\n",
        "\n"
      ]
    },
    {
      "cell_type": "code",
      "metadata": {
        "id": "WMDpc65_B9X5",
        "colab_type": "code",
        "colab": {}
      },
      "source": [
        "# Plot the percentage values of the Churn attribute\n"
      ],
      "execution_count": null,
      "outputs": []
    },
    {
      "cell_type": "markdown",
      "metadata": {
        "id": "AcFlbFfHDyB5",
        "colab_type": "text"
      },
      "source": [
        "We have a **binary classification** problem with a slightly unbalanced target:\n",
        "```\n",
        "print(telco['Churn'].value_counts(normalize=True) * 100)\n",
        "```\n"
      ]
    },
    {
      "cell_type": "code",
      "metadata": {
        "id": "UU-CXT8YGxPl",
        "colab_type": "code",
        "colab": {}
      },
      "source": [
        "# Let us verify how the distribution of Churn is shaped\n"
      ],
      "execution_count": null,
      "outputs": []
    },
    {
      "cell_type": "markdown",
      "metadata": {
        "id": "0Gnxaf3UKMIS",
        "colab_type": "text"
      },
      "source": [
        "### **Visualizing categorical features**\n"
      ]
    },
    {
      "cell_type": "markdown",
      "metadata": {
        "id": "etRPlz5mrpnL",
        "colab_type": "text"
      },
      "source": [
        "> #### **Data Visualization Refresher** \n",
        "> \n",
        "> A `matplotlib` visualization is made of 3 components:\n",
        "> - A **figure** which houses in one or many subplots (or axes).\n",
        "> - The **axes** objects ~ the subplots within the figure.\n",
        "> - The plot inside each subplot or axes.\n",
        ">\n",
        "> We can generate a figure with subplots using the following function:\n",
        ">\n",
        "> `fig, axes = plt.subplots(nrow, ncol)`"
      ]
    },
    {
      "cell_type": "markdown",
      "metadata": {
        "id": "0kvRhH6VvSYP",
        "colab_type": "text"
      },
      "source": [
        "To visualize the count of different categorical values by `Churn`, we can use again the `sns.countplot(x, hue, data, ax)` function which takes in:\n",
        "- `x`: The column name being counted.\n",
        "- `hue`: The column name used for grouping the data.\n",
        "- `data`: The DataFrame being visualized.\n",
        "- **`ax`: Which axes in the figure to assign the plot.**"
      ]
    },
    {
      "cell_type": "code",
      "metadata": {
        "id": "jz-uBHw50iw-",
        "colab_type": "code",
        "colab": {}
      },
      "source": [
        "# Setting aesthetics for better viewing\n",
        "plt.rcParams[\"axes.labelsize\"] = 5\n",
        "sns.set(font_scale=5) \n",
        "\n",
        "# Create figure and axes\n",
        "fig, axes = plt.subplots(4, 4, figsize = (100, 100))\n",
        "\n",
        "# Iterate over each axes, and plot a countplot with categorical columns\n",
        "for ax, column in zip(axes.flatten(), categorical):\n",
        "    \n",
        "    # Create countplot\n",
        "    \n",
        "    \n",
        "    # Set the title of each subplott\n",
        "    ax.set_title(column)\n",
        "\n",
        "    # Improve legends\n",
        "    handles, labels = ax.get_legend_handles_labels()\n",
        "    fig.legend(handles, labels, loc='right', fontsize = 48)\n",
        "    ax.get_legend().remove()"
      ],
      "execution_count": null,
      "outputs": []
    },
    {
      "cell_type": "markdown",
      "metadata": {
        "id": "dyFXV1bnumI0",
        "colab_type": "text"
      },
      "source": [
        "**Observations:**\n"
      ]
    },
    {
      "cell_type": "markdown",
      "metadata": {
        "id": "nASwhNoHOltS",
        "colab_type": "text"
      },
      "source": [
        "### **Visualizing continuous features**\n"
      ]
    },
    {
      "cell_type": "markdown",
      "metadata": {
        "id": "aQ7wyQbrvOG7",
        "colab_type": "text"
      },
      "source": [
        "It can be visusalized as such:\n",
        "\n",
        "- `sns.boxplot(x=, y=, data=)`\n",
        "  - `x`: Categorical variable we want to group our data by.\n",
        "  - `y`: Numeric variable being observed by group.\n",
        "  - `data`: The DataFrame being used.\n",
        "  "
      ]
    },
    {
      "cell_type": "code",
      "metadata": {
        "id": "wTQU6my40ixF",
        "colab_type": "code",
        "colab": {}
      },
      "source": [
        "# Setting aesthetics for better viewing\n",
        "plt.rcParams[\"axes.labelsize\"] = 1\n",
        "sns.set(font_scale=1) \n",
        " \n",
        "# Create figure and axes\n",
        "fig, axes = plt.subplots(1, 3, figsize = (16, 6))\n",
        "\n",
        "# Iterate over each axes, and plot a boxplot with numeric columns\n",
        "for ax, column in zip(axes.flatten(), numeric):\n",
        "    \n",
        "    # Create a boxplot\n",
        "    \n",
        "    \n",
        "    # Set title\n",
        "    ax.set_title(column)"
      ],
      "execution_count": null,
      "outputs": []
    },
    {
      "cell_type": "markdown",
      "metadata": {
        "id": "64JAbMPlwRnx",
        "colab_type": "text"
      },
      "source": [
        "**Observations:**\n"
      ]
    },
    {
      "cell_type": "markdown",
      "metadata": {
        "id": "4unbgtWxUfgn",
        "colab_type": "text"
      },
      "source": [
        "The probability density distribution can be estimate using the seaborn kdeplot function.\n",
        "\n",
        "It can be visusalized as such:\n",
        "\n",
        "- `sns.kdeplot(data=, color=, label=, ax=)`\n",
        "  - `data`: Input data.\n",
        "  - `color`: Color of plot.\n",
        "  - `label`: Name of label.\n",
        "  - `ax`: Axes to plot on."
      ]
    },
    {
      "cell_type": "code",
      "metadata": {
        "id": "P2lxioP-QPcz",
        "colab_type": "code",
        "colab": {}
      },
      "source": [
        "# Setting aesthetics for better viewing\n",
        "plt.rcParams[\"axes.labelsize\"] = 1\n",
        "sns.set(font_scale=1) \n",
        "\n",
        "# Create figure and axes\n",
        "fig, axes = plt.subplots(3, 1, figsize = (12, 12))\n",
        "\n",
        "# Iterate over each axes, and plot a density with numeric columns\n",
        "for ax, column in zip(axes.flatten(), numeric):\n",
        "    \n",
        "    # Create a density plot\n",
        "    ax0 = sns.kdeplot(          , color= 'navy', label= 'Stayed',ax = ax)\n",
        "    ax1 = sns.kdeplot(          , color= 'orange', label= 'Churned',ax = ax)\n",
        "    # Set title\n",
        "    ax.set_title(column)"
      ],
      "execution_count": null,
      "outputs": []
    },
    {
      "cell_type": "markdown",
      "metadata": {
        "id": "Mc2_EfnzU5cJ",
        "colab_type": "text"
      },
      "source": [
        "**Observations:** \n",
        "\n"
      ]
    },
    {
      "cell_type": "markdown",
      "metadata": {
        "id": "jQEhlx5gSxii",
        "colab_type": "text"
      },
      "source": [
        "### **Handling Outliers**"
      ]
    },
    {
      "cell_type": "code",
      "metadata": {
        "id": "xMelNQdhFDC2",
        "colab_type": "code",
        "colab": {}
      },
      "source": [
        "# Handle Outliers for TotalCharges\n",
        "\n",
        "# Let's filter those outliers\n"
      ],
      "execution_count": null,
      "outputs": []
    },
    {
      "cell_type": "markdown",
      "metadata": {
        "id": "6zue4WkoB6cW",
        "colab_type": "text"
      },
      "source": [
        "## **Correlation**"
      ]
    },
    {
      "cell_type": "code",
      "metadata": {
        "id": "R2YCSbhiB-ja",
        "colab_type": "code",
        "colab": {}
      },
      "source": [
        "# Plot correlation of variables\n"
      ],
      "execution_count": null,
      "outputs": []
    },
    {
      "cell_type": "markdown",
      "metadata": {
        "id": "gLZNxl3ZulCM",
        "colab_type": "text"
      },
      "source": [
        "## **Bonus - Pandas Profiling**"
      ]
    },
    {
      "cell_type": "code",
      "metadata": {
        "id": "HaC0N4kF1jqe",
        "colab_type": "code",
        "colab": {}
      },
      "source": [
        "# Install last version of pandas-profiling\n",
        "! pip install https://github.com/pandas-profiling/pandas-profiling/archive/master.zip"
      ],
      "execution_count": null,
      "outputs": []
    },
    {
      "cell_type": "code",
      "metadata": {
        "id": "nBvU2wgCuxxs",
        "colab_type": "code",
        "colab": {}
      },
      "source": [
        "#import libraries\n",
        "from pandas_profiling import ProfileReport"
      ],
      "execution_count": null,
      "outputs": []
    },
    {
      "cell_type": "code",
      "metadata": {
        "id": "5L-8cTNLu88x",
        "colab_type": "code",
        "colab": {}
      },
      "source": [
        "# Create report\n"
      ],
      "execution_count": null,
      "outputs": []
    },
    {
      "cell_type": "code",
      "metadata": {
        "id": "iAOQES6dvTB0",
        "colab_type": "code",
        "colab": {}
      },
      "source": [
        "# Display report in html format\n"
      ],
      "execution_count": null,
      "outputs": []
    },
    {
      "cell_type": "code",
      "metadata": {
        "id": "BaYsu8j246Dl",
        "colab_type": "code",
        "colab": {}
      },
      "source": [
        "# Save raport\n"
      ],
      "execution_count": null,
      "outputs": []
    },
    {
      "cell_type": "markdown",
      "metadata": {
        "id": "JwY6BYxn6osc",
        "colab_type": "text"
      },
      "source": [
        "---\n",
        "<center><h1> Q&A 3</h1> </center>\n",
        "\n",
        "---"
      ]
    },
    {
      "cell_type": "markdown",
      "metadata": {
        "id": "HP69JRvx0ixL",
        "colab_type": "text"
      },
      "source": [
        "# **Feature Engineering**\n"
      ]
    },
    {
      "cell_type": "markdown",
      "metadata": {
        "id": "i_PMixaofRam",
        "colab_type": "text"
      },
      "source": [
        "## **Continuous/numeric data**"
      ]
    },
    {
      "cell_type": "markdown",
      "metadata": {
        "id": "554omBWAfHXh",
        "colab_type": "text"
      },
      "source": [
        "#### **Binning**\n",
        "\n"
      ]
    },
    {
      "cell_type": "code",
      "metadata": {
        "id": "pD2Of7ynfwtp",
        "colab_type": "code",
        "colab": {}
      },
      "source": [
        "# Bin the \"tenure\" values into 6 groups\n",
        "new_tenure = [] #List\n",
        "\n",
        "for i in telco[\"tenure\"]:\n",
        "  if i <= 12:\n",
        "    \n",
        "  elif i <= 24:\n",
        "    \n",
        "  elif i <= 36:\n",
        "    \n",
        "  elif i <= 48:\n",
        "    \n",
        "  elif i <= 60:\n",
        "    \n",
        "  else:\n",
        "    \n",
        "\n",
        "telco[\"tenure\"] = new_tenure"
      ],
      "execution_count": null,
      "outputs": []
    },
    {
      "cell_type": "code",
      "metadata": {
        "id": "2pO6xsbJe21P",
        "colab_type": "code",
        "colab": {}
      },
      "source": [
        "#Print the head of dataset\n"
      ],
      "execution_count": null,
      "outputs": []
    },
    {
      "cell_type": "markdown",
      "metadata": {
        "id": "M5kBckanhVSv",
        "colab_type": "text"
      },
      "source": [
        "We can get the same effect with the `cut` method:\n",
        "```\n",
        "telco[\"tenure\"] = pd.cut(x=telco[\"tenure\"], bins=[12, 24, 36, 48, 60], labels=[0, 1, 2, 3, 4, 5])\n",
        "```"
      ]
    },
    {
      "cell_type": "markdown",
      "metadata": {
        "id": "HXDndg5fxU10",
        "colab_type": "text"
      },
      "source": [
        "#### **Standardization**\n",
        "\n",
        "We can do this easily in `sklearn` by using the `StandardScaler()` function. Many operations in `sklearn` fit the following `.fit()` $\\rightarrow$ `.transform()` paradigm and `StandardScaler()` is no different:\n",
        "\n",
        "```\n",
        "from sklearn.preprocessing import StandardScaler\n",
        "scaler = StandardScaler()\n",
        "\n",
        "# Fit on data\n",
        "scaler.fit(df[my_column])\n",
        "\n",
        "# Transformed\n",
        "column_scaled = scaler.transform(df[my_column])\n",
        "\n",
        "# Replace column\n",
        "df[my_column] = column_scaled\n",
        "```"
      ]
    },
    {
      "cell_type": "code",
      "metadata": {
        "id": "9g4VgqJm0ixR",
        "colab_type": "code",
        "colab": {}
      },
      "source": [
        "# Split data between X and label\n"
      ],
      "execution_count": null,
      "outputs": []
    },
    {
      "cell_type": "code",
      "metadata": {
        "id": "_DQPNtFc0ixU",
        "colab_type": "code",
        "colab": {}
      },
      "source": [
        "# Import train_test_split\n",
        "from sklearn.model_selection import train_test_split\n",
        "\n",
        "# Split data into train test splits\n"
      ],
      "execution_count": null,
      "outputs": []
    },
    {
      "cell_type": "code",
      "metadata": {
        "id": "Os66Te3M0ixY",
        "colab_type": "code",
        "colab": {}
      },
      "source": [
        "# Import StandardScaler\n",
        "from sklearn.preprocessing import StandardScaler\n",
        "\n",
        "# Intialize a scaler\n",
        "scaler = \n",
        "\n",
        "# Fit on training data\n",
        "\n",
        "\n",
        "# Transform training and test data\n",
        "train_numeric_transform = \n",
        "test_numeric_transform = "
      ],
      "execution_count": null,
      "outputs": []
    },
    {
      "cell_type": "code",
      "metadata": {
        "id": "cKBTS0PS0ixe",
        "colab_type": "code",
        "colab": {}
      },
      "source": [
        "# Replace columns in training and testing data accordingly\n",
        "train_X[numeric] = \n",
        "test_X[numeric] = "
      ],
      "execution_count": null,
      "outputs": []
    },
    {
      "cell_type": "markdown",
      "metadata": {
        "id": "DmOvZ7J3QJbD",
        "colab_type": "text"
      },
      "source": [
        "## **Categorical data**"
      ]
    },
    {
      "cell_type": "markdown",
      "metadata": {
        "id": "Vf6Erb-M3xxE",
        "colab_type": "text"
      },
      "source": [
        "### **Features Encoding**\n",
        "Using dummy encoding in `pandas` is actually very easy - we can use the `pd.get_dummies()` function which takes:\n",
        "\n",
        "- The DataFrame being converted.\n",
        "- `columns`: The name of the categorical columns to be converted.\n",
        "- `drop_first`: Boolean to indicate onehot encoding (`False`) or dummy encoding (`True`).\n",
        "\n",
        "\n"
      ]
    },
    {
      "cell_type": "code",
      "metadata": {
        "id": "RgPhMhuP0ixh",
        "colab_type": "code",
        "colab": {}
      },
      "source": [
        "# One hot encode cat variables\n",
        "train_X = \n",
        "test_X = "
      ],
      "execution_count": null,
      "outputs": []
    },
    {
      "cell_type": "code",
      "metadata": {
        "id": "ssdA-5wC0ixq",
        "colab_type": "code",
        "colab": {}
      },
      "source": [
        "# Re-add Churned to add to train and test\n",
        "train_X['Churn'] = train_Y\n",
        "test_X['Churn'] = test_Y"
      ],
      "execution_count": null,
      "outputs": []
    },
    {
      "cell_type": "code",
      "metadata": {
        "id": "44suakgKGO8R",
        "colab_type": "code",
        "colab": {}
      },
      "source": [
        "# Check out header again\n"
      ],
      "execution_count": null,
      "outputs": []
    },
    {
      "cell_type": "markdown",
      "metadata": {
        "id": "BRopXo88Ehsh",
        "colab_type": "text"
      },
      "source": [
        "### **New Feature Creating**\n",
        "\n"
      ]
    },
    {
      "cell_type": "code",
      "metadata": {
        "id": "unCbSHWjGQcY",
        "colab_type": "code",
        "colab": {}
      },
      "source": [
        "# Service columns\n",
        "service_columns = ['OnlineSecurity_Yes', 'OnlineBackup_Yes', 'DeviceProtection_Yes', 'TechSupport_Yes']\n",
        "\n",
        "# Create in_ecosystem column\n",
        "train_X['in_ecosystem'] = \n",
        "\n",
        "# Visualize churn by number of services subscribed\n",
        "sns.countplot\n",
        "\n"
      ],
      "execution_count": null,
      "outputs": []
    },
    {
      "cell_type": "code",
      "metadata": {
        "id": "_EjvNzra7zeu",
        "colab_type": "code",
        "colab": {}
      },
      "source": [
        "# Create feature that is 1 if 2 or more services subscribed, 0 otherwise\n",
        "train_X['in_ecosystem'] = \n",
        "\n",
        "# Apply the same on test_X\n",
        "test_X['in_ecosystem'] = \n",
        "test_X['in_ecosystem'] = \n",
        "\n",
        "# Visualize churn by number of services subscribed\n",
        "sns.countplot"
      ],
      "execution_count": null,
      "outputs": []
    },
    {
      "cell_type": "markdown",
      "metadata": {
        "id": "yFAZkBcdAOvV",
        "colab_type": "text"
      },
      "source": [
        "**Observations:**"
      ]
    },
    {
      "cell_type": "code",
      "metadata": {
        "id": "6yLZboGx86KP",
        "colab_type": "code",
        "colab": {}
      },
      "source": [
        "# Print crosstab for new feature\n",
        "pd.crosstab"
      ],
      "execution_count": null,
      "outputs": []
    },
    {
      "cell_type": "markdown",
      "metadata": {
        "colab_type": "text",
        "id": "fv8U1WVnBWtF"
      },
      "source": [
        "**Observations:**"
      ]
    },
    {
      "cell_type": "code",
      "metadata": {
        "id": "K88S8T_s0iyA",
        "colab_type": "code",
        "colab": {}
      },
      "source": [
        "# Drop target variable from training and testing data again \n"
      ],
      "execution_count": null,
      "outputs": []
    },
    {
      "cell_type": "code",
      "metadata": {
        "id": "C_t3dHeHAwod",
        "colab_type": "code",
        "colab": {}
      },
      "source": [
        "# Print shape of training and testing data\n"
      ],
      "execution_count": null,
      "outputs": []
    },
    {
      "cell_type": "markdown",
      "metadata": {
        "id": "NMAzRUlZ1lP5",
        "colab_type": "text"
      },
      "source": [
        "## **Summary** \n",
        "\n",
        "Other Feature Engineering ideeas:\n",
        "*   `Responsibility_Score`: Average of partner, dependents and senior citizen to \n",
        "determine a score which determines the amount of life-related responsibility one has.\n",
        "*   `Phone_Reliance`: Average of PhoneService and MultipleLines to determine a score which determines the extent of reliance one has on phone service.\n",
        "*   `Support`: Average of InternetService, StreamingTV and StreamingMovies to determine a score which determines the amount of support services one has.\n",
        "*   `Duration`: Average of tenure and contract to determine an aggregation score of time-related factors\n",
        "\n",
        "```\n",
        "Responsibility_Score = (Partner + Dependents + SeniorCitizen)/3\n",
        "Phone_Reliance = (PhoneService + MultipleLines)/2\n",
        "Support = (OnlineSecurity + OnlineBackup + DeviceProtection + TechSupport)/4\n",
        "Online_Services = (InternetService + StreamingTV + StreamingMovies)/3\n",
        "Duration = (tenure + Contract)/2\n",
        "```\n",
        "\n"
      ]
    },
    {
      "cell_type": "markdown",
      "metadata": {
        "id": "XhtT-Dvu6q5p",
        "colab_type": "text"
      },
      "source": [
        "---\n",
        "<center><h1> Q&A 4</h1> </center>\n",
        "\n",
        "---"
      ]
    },
    {
      "cell_type": "markdown",
      "metadata": {
        "id": "QnoEHbivQIg-",
        "colab_type": "text"
      },
      "source": [
        "# **Modelling**"
      ]
    },
    {
      "cell_type": "markdown",
      "metadata": {
        "id": "3IWmBMGQ9yqi",
        "colab_type": "text"
      },
      "source": [
        "**Accuracy** has the following definition::\n",
        "\n",
        "<br>\n",
        "\n",
        "\n",
        "$$\\large{accuracy = \\frac{Number \\space of \\space correct \\space predictions}{Total \\space number \\space of \\space predictions}}$$\n",
        "\n"
      ]
    },
    {
      "cell_type": "code",
      "metadata": {
        "id": "SnasvjxF0iv9",
        "colab_type": "code",
        "colab": {}
      },
      "source": [
        "# Check the distribution of labels\n"
      ],
      "execution_count": null,
      "outputs": []
    },
    {
      "cell_type": "markdown",
      "metadata": {
        "id": "yyebp5IvAdGo",
        "colab_type": "text"
      },
      "source": [
        "The **\"baseline model\"**.\n",
        "<BR>\n",
        "\n",
        "$$\\large{baseline \\space accuracy = \\frac{\\# \\space times \\space model \\space predicted \\space \"Stayed\"}{total \\space number \\space of \\space predictions}}$$"
      ]
    },
    {
      "cell_type": "code",
      "metadata": {
        "id": "sd6E2YbQ0iwB",
        "colab_type": "code",
        "colab": {}
      },
      "source": [
        "# Find the baseline model\n"
      ],
      "execution_count": null,
      "outputs": []
    },
    {
      "cell_type": "markdown",
      "metadata": {
        "id": "xYynPBTc-vYU",
        "colab_type": "text"
      },
      "source": [
        "In this particular instance, the **baseline model** (always predicting `\"Stayed\"`) is 73.4% - and any meaningful model that improves performance will have to break that accuracy score. "
      ]
    },
    {
      "cell_type": "markdown",
      "metadata": {
        "id": "D9k0Tgm3XUQb",
        "colab_type": "text"
      },
      "source": [
        "## **Classification**\n"
      ]
    },
    {
      "cell_type": "markdown",
      "metadata": {
        "id": "ISvRUbPh0iyC",
        "colab_type": "text"
      },
      "source": [
        "## **Using K-Nearest Neighbors to Generate Predictions**\n",
        "\n",
        "The `KNeighborsClassifier()` needs to be instantiated and follows the `.fit()` $\\rightarrow$ `.predict()` paradigm as such:\n",
        "\n",
        "```\n",
        "# Import algorithm\n",
        "from sklearn.neighbors import KNeighborsClassifier\n",
        "\n",
        "# Instantiate it\n",
        "knn = KNeighborsClassifier(n_neighbors = k)\n",
        "\n",
        "# Fit on training data\n",
        "knn.fit(train_X, train_Y)\n",
        "\n",
        "# Create predictions\n",
        "predictions_Y = knn.predict(test_X)\n",
        "\n",
        "# Calculate accuracy score on testing data\n",
        "test_accuracy = accuracy_score(test_Y, predictions_Y)\n",
        "```"
      ]
    },
    {
      "cell_type": "code",
      "metadata": {
        "id": "5wpNKPQbLERL",
        "colab_type": "code",
        "colab": {}
      },
      "source": [
        "# Import K-Nearest Neighbor Classifier and accuracy_score\n",
        "from sklearn.neighbors import KNeighborsClassifier \n",
        "from sklearn.metrics import accuracy_score,classification_report\n",
        "\n",
        "# Instantiate K Nearest Neighbors with 6 neighbors\n",
        "knn = \n",
        "\n",
        "# Fit on training data\n",
        "knn.fit()\n",
        "\n",
        "# Create Predictions\n",
        "pred_test_Y = \n",
        "pred_train_Y = \n",
        "\n",
        "# Calculate accuracy score on testing data\n",
        "test_accuracy = \n",
        "train_accuracy = \n",
        "\n",
        "# Print test accuracy score rounded to 4 decimals\n",
        "print('Test accuracy:',     )\n",
        "print('Train accuracy:',    )"
      ],
      "execution_count": null,
      "outputs": []
    },
    {
      "cell_type": "markdown",
      "metadata": {
        "id": "nbfwhZ_5R3Bq",
        "colab_type": "text"
      },
      "source": [
        "## **Model Performance Metrics**"
      ]
    },
    {
      "cell_type": "markdown",
      "metadata": {
        "id": "QbmtlMLV_BAE",
        "colab_type": "text"
      },
      "source": [
        "### **Confusion Matrix**\n",
        "<p align=\"center\">\n",
        "<img src=\"https://raw.githubusercontent.com/Darek-github/CoE-Academy-Data-preparation/master/ConfusionMatrxi.jpg\" width=\"60%\">\n",
        "</p>\n",
        "\n",
        "<br>\n",
        "To create the Confusion Matrix using pandas, you’ll need to apply the `pd.crosstab` as follows:\n",
        "\n",
        "```\n",
        "pd.crosstab(y_true, y_pred)\n",
        "```"
      ]
    },
    {
      "cell_type": "code",
      "metadata": {
        "id": "NnJng_zcZygG",
        "colab_type": "code",
        "colab": {}
      },
      "source": [
        "# Print confusion matrix of kNN\n",
        "confusion_matrix = \n",
        "print( )"
      ],
      "execution_count": null,
      "outputs": []
    },
    {
      "cell_type": "markdown",
      "metadata": {
        "id": "JrfbglooXMRO",
        "colab_type": "text"
      },
      "source": [
        "### **Other metrics**\n",
        "The `classification_report` function builds a text report showing the main classification metrics. \n",
        "```\n",
        "classification_report(y_true, y_pred, target_names=target_names)\n",
        "```"
      ]
    },
    {
      "cell_type": "code",
      "metadata": {
        "id": "DamLs5ULRgX3",
        "colab_type": "code",
        "colab": {}
      },
      "source": [
        "# Print other metrics\n",
        "print(classification_report( ))"
      ],
      "execution_count": null,
      "outputs": []
    },
    {
      "cell_type": "markdown",
      "metadata": {
        "id": "rqT_B6F3Vyjd",
        "colab_type": "text"
      },
      "source": [
        "## **Using Decision Trees and Random Forests to Generate Predictions**\n",
        "\n",
        "\n",
        "`DecisionTreeClassifier`, `RandomForestClassifier()` object - also fits the `.fit()` $\\rightarrow$ `.predict()` paradigm."
      ]
    },
    {
      "cell_type": "code",
      "metadata": {
        "id": "vNQ5NpwR0iyF",
        "colab_type": "code",
        "colab": {}
      },
      "source": [
        "# Import relevant packages\n",
        "from sklearn.tree import DecisionTreeClassifier\n",
        "from sklearn.ensemble import RandomForestClassifier\n",
        "from sklearn.metrics import accuracy_score,classification_report\n",
        "\n",
        "# Instantiate decision tree and random forest classifiers\n",
        "dec_tree = \n",
        "rand_forest = \n",
        "\n",
        "# Fit decision tree and random forest on data\n",
        "\n",
        "\n",
        "\n",
        "# Create Predictions on test and train data using decision tree\n",
        "pred_test_Y_tree = \n",
        "pred_train_Y_tree = \n",
        "\n",
        "# Create Predictions on test and train data using random forest\n",
        "pred_test_Y_forest = \n",
        "pred_train_Y_forest = \n",
        "\n",
        "# Calculate test and train accuracy score on decision tree\n",
        "test_accuracy_tree = accuracy_score()\n",
        "train_accuracy_tree = accuracy_score()\n",
        "\n",
        "# Calculate test and train accuracy score on random forest\n",
        "test_accuracy_forest = accuracy_score()\n",
        "train_accuracy_forest = accuracy_score()\n",
        "\n",
        "# Print test accuracy score rounded to 4 decimals\n",
        "print('Tree test accuracy:', )\n",
        "print('Tree train accuracy:', )\n",
        "\n",
        "# Print test accuracy score rounded to 4 decimals\n",
        "print('\\nForest test accuracy:', )\n",
        "print('Forest train accuracy:', )"
      ],
      "execution_count": null,
      "outputs": []
    },
    {
      "cell_type": "code",
      "metadata": {
        "id": "hQga7ztvbX4Z",
        "colab_type": "code",
        "colab": {}
      },
      "source": [
        "# Print confusion matrix of Decision Tree\n",
        "confusion_matrix = \n",
        "print( )"
      ],
      "execution_count": null,
      "outputs": []
    },
    {
      "cell_type": "markdown",
      "metadata": {
        "id": "_h397TSCZKOb",
        "colab_type": "text"
      },
      "source": [
        "### **Feature importance and Feature selection**\n",
        "\n",
        "\n"
      ]
    },
    {
      "cell_type": "code",
      "metadata": {
        "id": "Syqde_BvbA-A",
        "colab_type": "code",
        "colab": {}
      },
      "source": [
        "# Call feature_importances_ method for DT\n"
      ],
      "execution_count": null,
      "outputs": []
    },
    {
      "cell_type": "code",
      "metadata": {
        "id": "21Jj-yy-GT3g",
        "colab_type": "code",
        "colab": {}
      },
      "source": [
        "# Plot features importances\n",
        "imp = pd.Series(data=dec_tree.feature_importances_, index=train_X.columns).sort_values(ascending=False)\n",
        "plt.figure(figsize=(10,12))\n",
        "plt.title(\"Feature importance\")\n",
        "ax = sns.barplot(y=imp.index, x=imp.values, palette=\"Blues_d\", orient='h')"
      ],
      "execution_count": null,
      "outputs": []
    },
    {
      "cell_type": "code",
      "metadata": {
        "id": "zRiZetz3bAyS",
        "colab_type": "code",
        "colab": {}
      },
      "source": [
        "# Call feature_importances_ method for RF\n",
        "rand_forest.feature_importances_"
      ],
      "execution_count": null,
      "outputs": []
    },
    {
      "cell_type": "code",
      "metadata": {
        "id": "zgXtP1iEG5EY",
        "colab_type": "code",
        "colab": {}
      },
      "source": [
        "# Plot features importances\n",
        "imp = pd.Series(data=rand_forest.feature_importances_, index=train_X.columns).sort_values(ascending=False)\n",
        "plt.figure(figsize=(10,12))\n",
        "plt.title(\"Feature importance\")\n",
        "ax = sns.barplot(y=imp.index, x=imp.values, palette=\"Blues_d\", orient='h')"
      ],
      "execution_count": null,
      "outputs": []
    },
    {
      "cell_type": "markdown",
      "metadata": {
        "id": "bNytYIrCcxkr",
        "colab_type": "text"
      },
      "source": [
        "**Observations:**"
      ]
    },
    {
      "cell_type": "code",
      "metadata": {
        "id": "tJ9u2mOzITIz",
        "colab_type": "code",
        "colab": {}
      },
      "source": [
        "#Dacision tree visualisation\n",
        "from sklearn import tree\n",
        "fig, axes = plt.subplots(nrows = 1,ncols = 1, dpi=150)\n",
        "tree.plot_tree(dec_tree, max_depth=2, fontsize=5)\n",
        "plt.show()"
      ],
      "execution_count": null,
      "outputs": []
    },
    {
      "cell_type": "markdown",
      "metadata": {
        "id": "ge_tgMvtmKFm",
        "colab_type": "text"
      },
      "source": [
        "## **Overfitting, the bias-variance tradeoff and cross validation**\n",
        "**Model Variance**\n",
        "A model is said to have high variance if it creates an elaborate decision boundary around data points for different sets of training data. \n",
        "\n",
        "<ins> It can be diagnosed if **training accuracy** >>> **test accuracy**. </ins>\n",
        "\n",
        "**Model Bias**\n",
        "A model underfits the data, or is said to have high bias if the decision boundary does not fit the data - and generates non-accurate predictions on both training and testing data.\n",
        "\n",
        "<ins> It can be diagnosed if both **training accuracy** and **test accuracy** are low. </ins>\n",
        "\n",
        "\n",
        "**Cross Validation**\n",
        "Cross-validation can be done by using the `cross_val_score()` in `sklearn` - it takes in as arguments the following:\n",
        "\n",
        "- The instantiated model in question.\n",
        "- The training data and label.\n",
        "- `cv`: The number of cross validation folds.\n"
      ]
    },
    {
      "cell_type": "code",
      "metadata": {
        "id": "rBOD-0Rb0iyH",
        "colab_type": "code",
        "colab": {}
      },
      "source": [
        "# Import relevant modules \n",
        "from sklearn.tree import DecisionTreeClassifier\n",
        "from sklearn.model_selection import cross_val_score\n",
        "\n",
        "# Instantiate decision tree\n",
        "dec_tree = \n",
        "\n",
        "# Get cross validation scores\n",
        "cv_scores = \n",
        "\n",
        "# Fit on training data and get predictions\n",
        "dec_tree.fit( )\n",
        "y_pred = \n",
        "\n",
        "# Fit on data\n",
        "print(cv_scores)\n",
        "print(\"\\nMean cross-val score:\", round(np.mean(cv_scores), 4))\n",
        "print(\"\\nTest score:\", round(accuracy_score(y_pred, test_Y), 4))"
      ],
      "execution_count": null,
      "outputs": []
    },
    {
      "cell_type": "markdown",
      "metadata": {
        "id": "xL13w1Lb63rE",
        "colab_type": "text"
      },
      "source": [
        "---\n",
        "<center><h1> Q&A 5</h1> </center>\n",
        "\n",
        "---"
      ]
    },
    {
      "cell_type": "markdown",
      "metadata": {
        "id": "Dd7VDPtxtNFt",
        "colab_type": "text"
      },
      "source": [
        "## **Hyperparameter Tuning and grid-search**\n"
      ]
    },
    {
      "cell_type": "code",
      "metadata": {
        "id": "6CkRhqTi0iyT",
        "colab_type": "code",
        "colab": {}
      },
      "source": [
        "# Get all parameters of a decision tree\n",
        "dec_tree = DecisionTreeClassifier()\n",
        "dec_tree.get_params()"
      ],
      "execution_count": null,
      "outputs": []
    },
    {
      "cell_type": "markdown",
      "metadata": {
        "id": "N3FqjSV0t-CG",
        "colab_type": "text"
      },
      "source": [
        "**Tuning maximum depth**\n",
        "\n",
        "See the `sklearn` [documentation](https://scikit-learn.org/stable/modules/generated/sklearn.tree.DecisionTreeClassifier.html).\n",
        "\n",
        " Let's try a `max_depth` of 4."
      ]
    },
    {
      "cell_type": "code",
      "metadata": {
        "id": "-Uv9WCD40iyV",
        "colab_type": "code",
        "colab": {}
      },
      "source": [
        "# Import relevant modules\n",
        "from sklearn.tree import DecisionTreeClassifier \n",
        "from sklearn.model_selection import cross_val_score\n",
        "\n",
        "# Instantiate a decision tree with max_depth = 4\n",
        "dec_tree = \n",
        "\n",
        "# Get cross validation scores\n",
        "cv_scores = \n",
        "\n",
        "# Fit on training data and get predictions\n",
        "dec_tree.fit()\n",
        "y_pred = \n",
        "\n",
        "# Print accuracy scores\n",
        "print(cv_scores)\n",
        "print(\"\\nMean cross-val score:\", round(np.mean(cv_scores), 4))\n",
        "print(\"\\nTest score:\", round(accuracy_score(y_pred, test_Y), 4))"
      ],
      "execution_count": null,
      "outputs": []
    },
    {
      "cell_type": "markdown",
      "metadata": {
        "id": "mUM2yP3-tyNR",
        "colab_type": "text"
      },
      "source": [
        "**Tuning maximum features**\n",
        "\n",
        "See `sklearn` [documentation](https://scikit-learn.org/stable/modules/generated/sklearn.tree.DecisionTreeClassifier.html)."
      ]
    },
    {
      "cell_type": "code",
      "metadata": {
        "id": "AgLYoybR0iye",
        "colab_type": "code",
        "colab": {}
      },
      "source": [
        "# Import relevant modules\n",
        "from sklearn.tree import DecisionTreeClassifier \n",
        "from sklearn.model_selection import cross_val_score\n",
        "\n",
        "# Instantiate a decision tree with max_depth = 4 and max_features = 25\n",
        "dec_tree = \n",
        "\n",
        "# Get cross validation scores\n",
        "cv_scores = \n",
        "\n",
        "# Fit on training data and get predictions\n",
        "dec_tree.fit()\n",
        "y_pred = \n",
        "\n",
        "# Print accuracy scores\n",
        "print(cv_scores)\n",
        "print(\"\\nMean cross-val score:\", round(np.mean(cv_scores), 4))\n",
        "print(\"\\nTest score:\", round(accuracy_score(y_pred, test_Y), 4))"
      ],
      "execution_count": null,
      "outputs": []
    },
    {
      "cell_type": "markdown",
      "metadata": {
        "id": "RHvodiPqvQqy",
        "colab_type": "text"
      },
      "source": [
        "**Using grid-search**\n",
        "\n",
        "Grid-search can be done using the `GridSearchCV()` function - it takes in as arguments:\n",
        "\n",
        "- The model being used.\n",
        "- The possible parameters to test - inputted as a dictionary. \n",
        "- `cv`: The number of cross-validation folds.\n",
        "- `verbose`: More detailed output if `2`."
      ]
    },
    {
      "cell_type": "code",
      "metadata": {
        "id": "0cVmSKi50iyg",
        "colab_type": "code",
        "colab": {}
      },
      "source": [
        "# Import GridSearchCV\n",
        "from sklearn.model_selection import GridSearchCV\n",
        "\n",
        "# Define parameter grid\n",
        "params = {'max_depth': [       ],\n",
        "          'max_features': [       ]}\n",
        "\n",
        "# Instantiate a decision tree classifier \n",
        "dec_tree = \n",
        "\n",
        "# Instantiate a GridSearchCV classifier with 10 fold cross-validation\n",
        "clf = \n",
        "\n",
        "# Fit clf on training data\n",
        "clf"
      ],
      "execution_count": null,
      "outputs": []
    },
    {
      "cell_type": "code",
      "metadata": {
        "id": "vZMU6Utn0iyk",
        "colab_type": "code",
        "colab": {}
      },
      "source": [
        "# Generate predictions and calculate accuracy error\n",
        "y_pred = \n",
        "print('Best parameters: ', )\n",
        "print('\\n',round(accuracy_score(y_pred, test_Y), 4))"
      ],
      "execution_count": null,
      "outputs": []
    },
    {
      "cell_type": "markdown",
      "metadata": {
        "id": "ETWTRB7P6tfQ",
        "colab_type": "text"
      },
      "source": [
        "---\n",
        "<center><h1> Q&A 6</h1> </center>\n",
        "\n",
        "---"
      ]
    },
    {
      "cell_type": "markdown",
      "metadata": {
        "id": "B_sHeMZRSC6p",
        "colab_type": "text"
      },
      "source": [
        "\n",
        "<center><h1>Homework</h1> </center>\n",
        "\n",
        "Try to break the **80%** accuracy threshold on the test data.\n",
        "\n",
        "*Tips:* <br>\n",
        "\n",
        "- Use different models (logistic regression, SVM and more)\n",
        "- Try hyperparameter-tuning these models - make sure you read the sklearn - - documentation for each model.\n",
        "- Investigate engineering new features for your model.\n",
        "\n",
        "*Submission details:*<br>\n",
        "\n",
        "Share with us a code snippet with your output.\n",
        "\n"
      ]
    }
  ]
}